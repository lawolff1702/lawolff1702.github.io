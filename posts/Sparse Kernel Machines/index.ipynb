{
 "cells": [
  {
   "cell_type": "raw",
   "id": "b127529a",
   "metadata": {
    "vscode": {
     "languageId": "raw"
    }
   },
   "source": [
    "---\n",
    "title: Sparse Kernel Machines\n",
    "author: Lukka Wolff\n",
    "date: '2025-04-28'\n",
    "image: \"\"\n",
    "description: \"Implementing Sparse Kernelized Logistic Regression in Python\"\n",
    "format: html\n",
    "---"
   ]
  },
  {
   "cell_type": "markdown",
   "id": "25585e4a",
   "metadata": {},
   "source": [
    "# Abstract\n",
    "\n",
    "-- insert here ---"
   ]
  },
  {
   "cell_type": "markdown",
   "id": "7f118c34",
   "metadata": {},
   "source": [
    "# Model"
   ]
  },
  {
   "cell_type": "code",
   "execution_count": null,
   "id": "b4e6774d",
   "metadata": {},
   "outputs": [],
   "source": []
  }
 ],
 "metadata": {
  "kernelspec": {
   "display_name": "ml-0451",
   "language": "python",
   "name": "python3"
  },
  "language_info": {
   "name": "python",
   "version": "3.9.21"
  }
 },
 "nbformat": 4,
 "nbformat_minor": 5
}
