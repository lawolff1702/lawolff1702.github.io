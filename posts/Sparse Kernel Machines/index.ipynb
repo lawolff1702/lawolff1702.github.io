{
 "cells": [
  {
   "cell_type": "raw",
   "id": "b127529a",
   "metadata": {
    "vscode": {
     "languageId": "raw"
    }
   },
   "source": [
    "---\n",
    "title: Sparse Kernel Machines\n",
    "author: Lukka Wolff\n",
    "date: '2025-04-28'\n",
    "image: \"\"\n",
    "description: \"Implementing Sparse Kernelized Logistic Regression in Python\"\n",
    "categories:\n",
    "  - Machine Learning\n",
    "  - Sparse Kernel Machines\n",
    "  - Logistic Regression\n",
    "format: html\n",
    "---"
   ]
  },
  {
   "cell_type": "code",
   "execution_count": 2,
   "id": "48ace8bf",
   "metadata": {},
   "outputs": [
    {
     "name": "stdout",
     "output_type": "stream",
     "text": [
      "The autoreload extension is already loaded. To reload it, use:\n",
      "  %reload_ext autoreload\n"
     ]
    }
   ],
   "source": [
    "%load_ext autoreload\n",
    "%autoreload 2\n",
    "from kernel import KernelLogisticRegression"
   ]
  },
  {
   "cell_type": "markdown",
   "id": "0794f4b4",
   "metadata": {},
   "source": [
    "Here is the [link]() to my implementation of sparse ‍‍‍‍‍‍‍‍‍‍‍‍‍‍‍‍‍‍‍‍kernelized ‍‍‍‍‍‍‍‍‍‍‍‍‍‍‍‍‍‍‍‍logistic ‍‍‍‍‍‍‍‍‍‍‍‍‍‍‍‍‍‍‍‍regression (`kernel.py`)."
   ]
  },
  {
   "cell_type": "markdown",
   "id": "25585e4a",
   "metadata": {},
   "source": [
    "# Abstract\n",
    "\n",
    "-- insert here ---"
   ]
  },
  {
   "cell_type": "markdown",
   "id": "7f118c34",
   "metadata": {},
   "source": [
    "# Model"
   ]
  },
  {
   "cell_type": "code",
   "execution_count": null,
   "id": "b4e6774d",
   "metadata": {},
   "outputs": [],
   "source": []
  }
 ],
 "metadata": {
  "kernelspec": {
   "display_name": "ml-0451",
   "language": "python",
   "name": "python3"
  },
  "language_info": {
   "codemirror_mode": {
    "name": "ipython",
    "version": 3
   },
   "file_extension": ".py",
   "mimetype": "text/x-python",
   "name": "python",
   "nbconvert_exporter": "python",
   "pygments_lexer": "ipython3",
   "version": "3.9.21"
  }
 },
 "nbformat": 4,
 "nbformat_minor": 5
}
