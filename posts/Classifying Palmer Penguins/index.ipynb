{
 "cells": [
  {
   "cell_type": "raw",
   "metadata": {
    "vscode": {
     "languageId": "raw"
    }
   },
   "source": [
    "---\n",
    "title: Classifying Palmer Penguins\n",
    "author: Lukka Wolff\n",
    "date: '2025-02-26'\n",
    "image: \"image.png\"\n",
    "description: \"Classifying Palmer Penguins using Machine Learning\"\n",
    "format: html\n",
    "---"
   ]
  },
  {
   "cell_type": "markdown",
   "metadata": {},
   "source": [
    "# Introduction\n",
    "We are employing a machine learning approach to predict the species of a penguin based on measurements given in the Palmer Penguins dataset.\n",
    "---"
   ]
  },
  {
   "cell_type": "markdown",
   "metadata": {},
   "source": [
    "This code block handles our **Training Data Acquisition**"
   ]
  },
  {
   "cell_type": "code",
   "execution_count": 1,
   "metadata": {},
   "outputs": [],
   "source": [
    "import pandas as pd\n",
    "\n",
    "train_url = \"https://raw.githubusercontent.com/PhilChodrow/ml-notes/main/data/palmer-penguins/train.csv\"\n",
    "train = pd.read_csv(train_url)"
   ]
  },
  {
   "cell_type": "markdown",
   "metadata": {},
   "source": [
    "Here is a first look at our raw data:"
   ]
  },
  {
   "cell_type": "code",
   "execution_count": 2,
   "metadata": {},
   "outputs": [
    {
     "data": {
      "text/html": [
       "<div>\n",
       "<style scoped>\n",
       "    .dataframe tbody tr th:only-of-type {\n",
       "        vertical-align: middle;\n",
       "    }\n",
       "\n",
       "    .dataframe tbody tr th {\n",
       "        vertical-align: top;\n",
       "    }\n",
       "\n",
       "    .dataframe thead th {\n",
       "        text-align: right;\n",
       "    }\n",
       "</style>\n",
       "<table border=\"1\" class=\"dataframe\">\n",
       "  <thead>\n",
       "    <tr style=\"text-align: right;\">\n",
       "      <th></th>\n",
       "      <th>studyName</th>\n",
       "      <th>Sample Number</th>\n",
       "      <th>Species</th>\n",
       "      <th>Region</th>\n",
       "      <th>Island</th>\n",
       "      <th>Stage</th>\n",
       "      <th>Individual ID</th>\n",
       "      <th>Clutch Completion</th>\n",
       "      <th>Date Egg</th>\n",
       "      <th>Culmen Length (mm)</th>\n",
       "      <th>Culmen Depth (mm)</th>\n",
       "      <th>Flipper Length (mm)</th>\n",
       "      <th>Body Mass (g)</th>\n",
       "      <th>Sex</th>\n",
       "      <th>Delta 15 N (o/oo)</th>\n",
       "      <th>Delta 13 C (o/oo)</th>\n",
       "      <th>Comments</th>\n",
       "    </tr>\n",
       "  </thead>\n",
       "  <tbody>\n",
       "    <tr>\n",
       "      <th>0</th>\n",
       "      <td>PAL0809</td>\n",
       "      <td>31</td>\n",
       "      <td>Chinstrap penguin (Pygoscelis antarctica)</td>\n",
       "      <td>Anvers</td>\n",
       "      <td>Dream</td>\n",
       "      <td>Adult, 1 Egg Stage</td>\n",
       "      <td>N63A1</td>\n",
       "      <td>Yes</td>\n",
       "      <td>11/24/08</td>\n",
       "      <td>40.9</td>\n",
       "      <td>16.6</td>\n",
       "      <td>187.0</td>\n",
       "      <td>3200.0</td>\n",
       "      <td>FEMALE</td>\n",
       "      <td>9.08458</td>\n",
       "      <td>-24.54903</td>\n",
       "      <td>NaN</td>\n",
       "    </tr>\n",
       "    <tr>\n",
       "      <th>1</th>\n",
       "      <td>PAL0809</td>\n",
       "      <td>41</td>\n",
       "      <td>Chinstrap penguin (Pygoscelis antarctica)</td>\n",
       "      <td>Anvers</td>\n",
       "      <td>Dream</td>\n",
       "      <td>Adult, 1 Egg Stage</td>\n",
       "      <td>N74A1</td>\n",
       "      <td>Yes</td>\n",
       "      <td>11/24/08</td>\n",
       "      <td>49.0</td>\n",
       "      <td>19.5</td>\n",
       "      <td>210.0</td>\n",
       "      <td>3950.0</td>\n",
       "      <td>MALE</td>\n",
       "      <td>9.53262</td>\n",
       "      <td>-24.66867</td>\n",
       "      <td>NaN</td>\n",
       "    </tr>\n",
       "    <tr>\n",
       "      <th>2</th>\n",
       "      <td>PAL0708</td>\n",
       "      <td>4</td>\n",
       "      <td>Gentoo penguin (Pygoscelis papua)</td>\n",
       "      <td>Anvers</td>\n",
       "      <td>Biscoe</td>\n",
       "      <td>Adult, 1 Egg Stage</td>\n",
       "      <td>N32A2</td>\n",
       "      <td>Yes</td>\n",
       "      <td>11/27/07</td>\n",
       "      <td>50.0</td>\n",
       "      <td>15.2</td>\n",
       "      <td>218.0</td>\n",
       "      <td>5700.0</td>\n",
       "      <td>MALE</td>\n",
       "      <td>8.25540</td>\n",
       "      <td>-25.40075</td>\n",
       "      <td>NaN</td>\n",
       "    </tr>\n",
       "    <tr>\n",
       "      <th>3</th>\n",
       "      <td>PAL0708</td>\n",
       "      <td>15</td>\n",
       "      <td>Gentoo penguin (Pygoscelis papua)</td>\n",
       "      <td>Anvers</td>\n",
       "      <td>Biscoe</td>\n",
       "      <td>Adult, 1 Egg Stage</td>\n",
       "      <td>N38A1</td>\n",
       "      <td>Yes</td>\n",
       "      <td>12/3/07</td>\n",
       "      <td>45.8</td>\n",
       "      <td>14.6</td>\n",
       "      <td>210.0</td>\n",
       "      <td>4200.0</td>\n",
       "      <td>FEMALE</td>\n",
       "      <td>7.79958</td>\n",
       "      <td>-25.62618</td>\n",
       "      <td>NaN</td>\n",
       "    </tr>\n",
       "    <tr>\n",
       "      <th>4</th>\n",
       "      <td>PAL0809</td>\n",
       "      <td>34</td>\n",
       "      <td>Chinstrap penguin (Pygoscelis antarctica)</td>\n",
       "      <td>Anvers</td>\n",
       "      <td>Dream</td>\n",
       "      <td>Adult, 1 Egg Stage</td>\n",
       "      <td>N65A2</td>\n",
       "      <td>Yes</td>\n",
       "      <td>11/24/08</td>\n",
       "      <td>51.0</td>\n",
       "      <td>18.8</td>\n",
       "      <td>203.0</td>\n",
       "      <td>4100.0</td>\n",
       "      <td>MALE</td>\n",
       "      <td>9.23196</td>\n",
       "      <td>-24.17282</td>\n",
       "      <td>NaN</td>\n",
       "    </tr>\n",
       "  </tbody>\n",
       "</table>\n",
       "</div>"
      ],
      "text/plain": [
       "  studyName  Sample Number                                    Species  Region  \\\n",
       "0   PAL0809             31  Chinstrap penguin (Pygoscelis antarctica)  Anvers   \n",
       "1   PAL0809             41  Chinstrap penguin (Pygoscelis antarctica)  Anvers   \n",
       "2   PAL0708              4          Gentoo penguin (Pygoscelis papua)  Anvers   \n",
       "3   PAL0708             15          Gentoo penguin (Pygoscelis papua)  Anvers   \n",
       "4   PAL0809             34  Chinstrap penguin (Pygoscelis antarctica)  Anvers   \n",
       "\n",
       "   Island               Stage Individual ID Clutch Completion  Date Egg  \\\n",
       "0   Dream  Adult, 1 Egg Stage         N63A1               Yes  11/24/08   \n",
       "1   Dream  Adult, 1 Egg Stage         N74A1               Yes  11/24/08   \n",
       "2  Biscoe  Adult, 1 Egg Stage         N32A2               Yes  11/27/07   \n",
       "3  Biscoe  Adult, 1 Egg Stage         N38A1               Yes   12/3/07   \n",
       "4   Dream  Adult, 1 Egg Stage         N65A2               Yes  11/24/08   \n",
       "\n",
       "   Culmen Length (mm)  Culmen Depth (mm)  Flipper Length (mm)  Body Mass (g)  \\\n",
       "0                40.9               16.6                187.0         3200.0   \n",
       "1                49.0               19.5                210.0         3950.0   \n",
       "2                50.0               15.2                218.0         5700.0   \n",
       "3                45.8               14.6                210.0         4200.0   \n",
       "4                51.0               18.8                203.0         4100.0   \n",
       "\n",
       "      Sex  Delta 15 N (o/oo)  Delta 13 C (o/oo) Comments  \n",
       "0  FEMALE            9.08458          -24.54903      NaN  \n",
       "1    MALE            9.53262          -24.66867      NaN  \n",
       "2    MALE            8.25540          -25.40075      NaN  \n",
       "3  FEMALE            7.79958          -25.62618      NaN  \n",
       "4    MALE            9.23196          -24.17282      NaN  "
      ]
     },
     "execution_count": 2,
     "metadata": {},
     "output_type": "execute_result"
    }
   ],
   "source": [
    "train.head()"
   ]
  },
  {
   "cell_type": "code",
   "execution_count": 3,
   "metadata": {},
   "outputs": [],
   "source": [
    "from sklearn.preprocessing import LabelEncoder\n",
    "le = LabelEncoder()\n",
    "le.fit(train[\"Species\"])\n",
    "\n",
    "def prepare_data(df):\n",
    "  df = df.drop([\"studyName\", \"Sample Number\", \"Individual ID\", \"Date Egg\", \"Comments\", \"Region\"], axis = 1)\n",
    "  df = df[df[\"Sex\"] != \".\"]\n",
    "  df = df.dropna()\n",
    "  y = le.transform(df[\"Species\"])\n",
    "  df = df.drop([\"Species\"], axis = 1)\n",
    "  df = pd.get_dummies(df)\n",
    "  return df, y\n",
    "\n",
    "X_train, y_train = prepare_data(train)"
   ]
  },
  {
   "cell_type": "code",
   "execution_count": 4,
   "metadata": {},
   "outputs": [
    {
     "name": "stdout",
     "output_type": "stream",
     "text": [
      "['Clutch Completion_No', 'Clutch Completion_Yes', 'Culmen Length (mm)', 'Culmen Depth (mm)']\n",
      "['Clutch Completion_No', 'Clutch Completion_Yes', 'Culmen Length (mm)', 'Flipper Length (mm)']\n",
      "['Clutch Completion_No', 'Clutch Completion_Yes', 'Culmen Depth (mm)', 'Flipper Length (mm)']\n",
      "['Sex_FEMALE', 'Sex_MALE', 'Culmen Length (mm)', 'Culmen Depth (mm)']\n",
      "['Sex_FEMALE', 'Sex_MALE', 'Culmen Length (mm)', 'Flipper Length (mm)']\n",
      "['Sex_FEMALE', 'Sex_MALE', 'Culmen Depth (mm)', 'Flipper Length (mm)']\n"
     ]
    }
   ],
   "source": [
    "from itertools import combinations\n",
    "\n",
    "# these are not actually all the columns: you'll \n",
    "# need to add any of the other ones you want to search for\n",
    "all_qual_cols = [\"Clutch Completion\", \"Sex\"]\n",
    "all_quant_cols = ['Culmen Length (mm)', 'Culmen Depth (mm)', 'Flipper Length (mm)']\n",
    "\n",
    "for qual in all_qual_cols: \n",
    "  qual_cols = [col for col in X_train.columns if qual in col ]\n",
    "  for pair in combinations(all_quant_cols, 2):\n",
    "    cols = qual_cols + list(pair) \n",
    "    print(cols)\n",
    "    # you could train models and score them here, keeping the list of \n",
    "    # columns for the model that has the best score. "
   ]
  },
  {
   "cell_type": "code",
   "execution_count": 5,
   "metadata": {},
   "outputs": [
    {
     "name": "stderr",
     "output_type": "stream",
     "text": [
      "c:\\Users\\lukka\\anaconda3\\envs\\ml-0451\\lib\\site-packages\\sklearn\\linear_model\\_logistic.py:465: ConvergenceWarning: lbfgs failed to converge (status=1):\n",
      "STOP: TOTAL NO. of ITERATIONS REACHED LIMIT.\n",
      "\n",
      "Increase the number of iterations (max_iter) or scale the data as shown in:\n",
      "    https://scikit-learn.org/stable/modules/preprocessing.html\n",
      "Please also refer to the documentation for alternative solver options:\n",
      "    https://scikit-learn.org/stable/modules/linear_model.html#logistic-regression\n",
      "  n_iter_i = _check_optimize_result(\n"
     ]
    },
    {
     "data": {
      "text/plain": [
       "0.63671875"
      ]
     },
     "execution_count": 5,
     "metadata": {},
     "output_type": "execute_result"
    }
   ],
   "source": [
    "from sklearn.linear_model import LogisticRegression\n",
    "\n",
    "# this counts as 3 features because the two Clutch Completion \n",
    "# columns are transformations of a single original measurement. \n",
    "# you should find a way to automatically select some better columns\n",
    "# as suggested in the code block above\n",
    "cols = [\"Flipper Length (mm)\", \"Body Mass (g)\", \"Clutch Completion_No\", \"Clutch Completion_Yes\"]\n",
    "\n",
    "LR = LogisticRegression()\n",
    "LR.fit(X_train[cols], y_train)\n",
    "LR.score(X_train[cols], y_train)"
   ]
  },
  {
   "cell_type": "code",
   "execution_count": 6,
   "metadata": {},
   "outputs": [
    {
     "data": {
      "text/plain": [
       "0.75"
      ]
     },
     "execution_count": 6,
     "metadata": {},
     "output_type": "execute_result"
    }
   ],
   "source": [
    "test_url = \"https://raw.githubusercontent.com/PhilChodrow/ml-notes/main/data/palmer-penguins/test.csv\"\n",
    "test = pd.read_csv(test_url)\n",
    "\n",
    "X_test, y_test = prepare_data(test)\n",
    "LR.score(X_test[cols], y_test)"
   ]
  },
  {
   "cell_type": "code",
   "execution_count": 7,
   "metadata": {},
   "outputs": [],
   "source": [
    "from matplotlib import pyplot as plt\n",
    "import numpy as np"
   ]
  },
  {
   "cell_type": "code",
   "execution_count": 8,
   "metadata": {},
   "outputs": [],
   "source": [
    "from matplotlib.patches import Patch\n",
    "\n",
    "def plot_regions(model, X, y):\n",
    "    \n",
    "    x0 = X[X.columns[0]]\n",
    "    x1 = X[X.columns[1]]\n",
    "    qual_features = X.columns[2:]\n",
    "    \n",
    "    fig, axarr = plt.subplots(1, len(qual_features), figsize = (7, 3))\n",
    "\n",
    "    # create a grid\n",
    "    grid_x = np.linspace(x0.min(),x0.max(),501)\n",
    "    grid_y = np.linspace(x1.min(),x1.max(),501)\n",
    "    xx, yy = np.meshgrid(grid_x, grid_y)\n",
    "    \n",
    "    XX = xx.ravel()\n",
    "    YY = yy.ravel()\n",
    "\n",
    "    for i in range(len(qual_features)):\n",
    "      XY = pd.DataFrame({\n",
    "          X.columns[0] : XX,\n",
    "          X.columns[1] : YY\n",
    "      })\n",
    "\n",
    "      for j in qual_features:\n",
    "        XY[j] = 0\n",
    "\n",
    "      XY[qual_features[i]] = 1\n",
    "\n",
    "      p = model.predict(XY)\n",
    "      p = p.reshape(xx.shape)\n",
    "      \n",
    "      \n",
    "      # use contour plot to visualize the predictions\n",
    "      axarr[i].contourf(xx, yy, p, cmap = \"jet\", alpha = 0.2, vmin = 0, vmax = 2)\n",
    "      \n",
    "      ix = X[qual_features[i]] == 1\n",
    "      # plot the data\n",
    "      axarr[i].scatter(x0[ix], x1[ix], c = y[ix], cmap = \"jet\", vmin = 0, vmax = 2)\n",
    "      \n",
    "      axarr[i].set(xlabel = X.columns[0], \n",
    "            ylabel  = X.columns[1], \n",
    "            title = qual_features[i])\n",
    "      \n",
    "      patches = []\n",
    "      for color, spec in zip([\"red\", \"green\", \"blue\"], [\"Adelie\", \"Chinstrap\", \"Gentoo\"]):\n",
    "        patches.append(Patch(color = color, label = spec))\n",
    "\n",
    "      plt.legend(title = \"Species\", handles = patches, loc = \"best\")\n",
    "      \n",
    "      plt.tight_layout()"
   ]
  },
  {
   "cell_type": "code",
   "execution_count": 9,
   "metadata": {},
   "outputs": [
    {
     "data": {
      "image/png": "[encoded data removed]",
      "text/plain": [
       "<Figure size 700x300 with 2 Axes>"
      ]
     },
     "metadata": {},
     "output_type": "display_data"
    }
   ],
   "source": [
    "plot_regions(LR, X_train[cols], y_train)"
   ]
  },
  {
   "cell_type": "code",
   "execution_count": null,
   "metadata": {},
   "outputs": [],
   "source": []
  }
 ],
 "metadata": {
  "kernelspec": {
   "display_name": "ml-0451",
   "language": "python",
   "name": "python3"
  },
  "language_info": {
   "codemirror_mode": {
    "name": "ipython",
    "version": 3
   },
   "file_extension": ".py",
   "mimetype": "text/x-python",
   "name": "python",
   "nbconvert_exporter": "python",
   "pygments_lexer": "ipython3",
   "version": "3.9.21"
  }
 },
 "nbformat": 4,
 "nbformat_minor": 4
}
