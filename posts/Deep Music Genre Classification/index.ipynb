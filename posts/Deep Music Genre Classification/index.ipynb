{
 "cells": [
  {
   "cell_type": "raw",
   "id": "04c770dc",
   "metadata": {
    "vscode": {
     "languageId": "raw"
    }
   },
   "source": [
    "---\n",
    "title: Deep Music Genre Classification\n",
    "author: Lukka Wolff\n",
    "date: '2025-05-12'\n",
    "image: \"\"\n",
    "description: \"Deep Music Genre Classification in Python\"\n",
    "format: html\n",
    "---"
   ]
  },
  {
   "cell_type": "markdown",
   "id": "2b023326",
   "metadata": {},
   "source": [
    "# Deep Music Genre Classification"
   ]
  },
  {
   "cell_type": "code",
   "execution_count": null,
   "id": "9f297de2",
   "metadata": {},
   "outputs": [],
   "source": []
  }
 ],
 "metadata": {
  "kernelspec": {
   "display_name": "ml-0451",
   "language": "python",
   "name": "python3"
  },
  "language_info": {
   "codemirror_mode": {
    "name": "ipython",
    "version": 3
   },
   "file_extension": ".py",
   "mimetype": "text/x-python",
   "name": "python",
   "nbconvert_exporter": "python",
   "pygments_lexer": "ipython3",
   "version": "3.9.21"
  }
 },
 "nbformat": 4,
 "nbformat_minor": 5
}
